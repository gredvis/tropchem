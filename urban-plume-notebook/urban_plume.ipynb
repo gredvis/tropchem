{
 "cells": [
  {
   "cell_type": "markdown",
   "metadata": {},
   "source": [
    "# Ozone formation in an urban plume\n",
    "The formation of ozone in an urban plume is demonstrated using a simple photochemical box model with a minimum number of species and reactions. In the following, the terms VOC (volatile organic compounds) and ROG (reactive organic gases) will be used as synonyms.\n",
    "\n",
    "The following assumptions are made:\n",
    "* An air mass travels on a sunny summer day at constant speed of 5 m/s across a 10 km wide city.\n",
    "* The air mass represents a well mixed planetary boundary layer of constant depth.\n",
    "* Before reaching the city, the air mass is rather clean with low initial NO$_x$, VOC and O$_3$ concentrations.\n",
    "* Over the city, which extends from 5 - 15 km along the air path (highlighted as grey box in the figure), NO$_x$ and VOCs are emitted at constant rates.\n",
    "* The NO:NO$_2$ ratio in the emissions is assumed to be 10:1.\n",
    "* Once leaving the city, emissions stop and NO$_x$ and VOCs start being consumed by reactions with OH. At the same time, O$_3$ is formed through a coupled NO$_x$ - HO$_x$ reaction cycle.\n",
    "* The net O$_3$ formation in the plume is analyzed by comparing the O$_3$ concentration 80 km downwind of the city to the inital $O_3$ concentration.\n",
    "\n",
    "The following chemical reactions are considered:\n",
    "\n",
    "<ol>\n",
    "  <li>ROG + OH -> HO$_2$, $k_1$\n",
    "  <li>HO$_2$ + NO -> OH + NO$_2$, $k_2$\n",
    "  <li>NO + O$_3$ -> NO$_2$ + O$_2$, $k_3$\n",
    "  <li>NO$_2$ + O$_2$ -> NO + O$_3$, $k_4$\n",
    "  <li>NO$_2$ + OH -> HNO$_3$, $k_5$\n",
    "  <li>O$_3$ + H$_2$O -> O$_2$ + 2 OH, $k_6$\n",
    "  <li>2 HO$_2$ -> O$_2$ + H$_2$O$_2$, $k_7$\n",
    "  <li>O$_3$ + HO$_2$ -> OH + 2 O$_2$, $k_8$\n",
    "  <li>OH + HO$_2$ -> H$_2$O + O$_2$, $k_9$\n",
    "</ol>\n",
    "\n",
    "The system of coupled differential equations is integrated with a QSSA (Quasi-steady-state approximation) solver as follows:\n",
    "\n",
    "<img src=\"qssa.png\" width=600 align=\"center\">\n",
    "\n",
    "with P$_x$ denoting all source terms of species X and D$_x$ all loss terms.\n",
    "\n",
    "The model was originally written in Fortran by Joachim Orb (ETH), then ported to php by Jörg Mäder (ETH), and finally to python by Dominik Brunner (Empa).\n",
    "\n",
    "In the form below you may play with the inital concentrations, the emission rates and the temperature. \n",
    "After changing a value, press **\"Shift-Enter\"** to execute."
   ]
  },
  {
   "cell_type": "code",
   "execution_count": null,
   "metadata": {},
   "outputs": [
    {
     "ename": "",
     "evalue": "",
     "output_type": "error",
     "traceback": [
      "\u001b[1;31mRunning cells with '/bin/python3' requires the ipykernel package.\n",
      "\u001b[1;31mRun the following command to install 'ipykernel' into the Python environment. \n",
      "\u001b[1;31mCommand: '/bin/python3 -m pip install ipykernel -U --user --force-reinstall'"
     ]
    }
   ],
   "source": [
    "from urban_o3_plume import urban_plume\n",
    "\n",
    "# emissions strengths of NOx and ROGs\n",
    "SNOx=0.01\n",
    "SROG=0.08\n",
    "# initial concentrations\n",
    "CNOx=1.0\n",
    "CO3=30.0\n",
    "CROG=4.0\n",
    "# temperature (K)\n",
    "T=303.15\n",
    "\n",
    "urban_plume(SNOx=SNOx,SROG=SROG,CNOx=CNOx,CROG=CROG,CO3=CO3,\n",
    "                T=T,doPlot=True,savePlot=False,saveCSV=False,\n",
    "                showHOx=True)"
   ]
  },
  {
   "cell_type": "markdown",
   "metadata": {
    "collapsed": true
   },
   "source": [
    "To store the output as csv-file or as png-image, run with savePlot=True or saveCSV=True. You will then find a file \"plume.csv\" or \"plume.png\" in the tab in your webbrowser, from where you started the jupyter notebook, e.g. \n",
    "https://hub.mybinder.org/user/gredvis-tropchem-xxxxxxxx/notebooks/urban-plume-notebook/\n",
    "where xxxxxxxx has to be replaced by the appropriate characters of your web address. You can then download the file to your local computer. The csv-file can be opened with Excel."
   ]
  },
  {
   "cell_type": "markdown",
   "metadata": {},
   "source": [
    "You can also just run the box model (without generating a figure) and return the \"plume\" as a python dictionary. The example below shows how you can then display the maximum O3 value in the plume."
   ]
  },
  {
   "cell_type": "code",
   "execution_count": null,
   "metadata": {},
   "outputs": [
    {
     "ename": "",
     "evalue": "",
     "output_type": "error",
     "traceback": [
      "\u001b[1;31mRunning cells with '/bin/python3' requires the ipykernel package.\n",
      "\u001b[1;31mRun the following command to install 'ipykernel' into the Python environment. \n",
      "\u001b[1;31mCommand: '/bin/python3 -m pip install ipykernel -U --user --force-reinstall'"
     ]
    }
   ],
   "source": [
    "from urban_o3_plume import simple_boxmodel\n",
    "\n",
    "# emissions strengths of NOx and ROGs\n",
    "SNOx=0.01\n",
    "SROG=0.08\n",
    "# initial concentrations\n",
    "CNOx=1.0\n",
    "CO3=30.0\n",
    "CROG=4.0\n",
    "# temperature (K)\n",
    "T=303.15\n",
    "\n",
    "plume = simple_boxmodel(SNOx=SNOx,SROG=SROG,CNOx=CNOx,CROG=CROG,\n",
    "                            CO3=CO3,T=T)\n",
    "\n",
    "# get and print maximum O3 concentration in the plume\n",
    "o3max = max(plume['conc']['O3'])\n",
    "print(o3max)"
   ]
  },
  {
   "cell_type": "markdown",
   "metadata": {},
   "source": [
    "With a little bit of python knowledge, you could now write a routine looping over different NOx and ROG source strengths and storing the max. O3 concentrations for each run in an array. In order not to loose your code, you should copy it to an external text file once you are happy with it."
   ]
  },
  {
   "cell_type": "code",
   "execution_count": null,
   "metadata": {
    "collapsed": true
   },
   "outputs": [
    {
     "ename": "",
     "evalue": "",
     "output_type": "error",
     "traceback": [
      "\u001b[1;31mRunning cells with '/bin/python3' requires the ipykernel package.\n",
      "\u001b[1;31mRun the following command to install 'ipykernel' into the Python environment. \n",
      "\u001b[1;31mCommand: '/bin/python3 -m pip install ipykernel -U --user --force-reinstall'"
     ]
    }
   ],
   "source": []
  }
 ],
 "metadata": {
  "kernelspec": {
   "display_name": "Python 3",
   "language": "python",
   "name": "python3"
  },
  "language_info": {
   "codemirror_mode": {
    "name": "ipython",
    "version": 3
   },
   "file_extension": ".py",
   "mimetype": "text/x-python",
   "name": "python",
   "nbconvert_exporter": "python",
   "pygments_lexer": "ipython3",
   "version": "3.6.8"
  }
 },
 "nbformat": 4,
 "nbformat_minor": 2
}
